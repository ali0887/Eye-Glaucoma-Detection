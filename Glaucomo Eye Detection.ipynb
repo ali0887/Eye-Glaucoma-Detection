{
  "cells": [
    {
      "cell_type": "code",
      "execution_count": 110,
      "metadata": {
        "id": "f4rqMHuMU4sw"
      },
      "outputs": [],
      "source": [
        "# Digital Image Processing\n",
        "# Course Project\n",
        "# Muhammad Ali\n",
        "# 21I-0887\n",
        "# A\n",
        "\n",
        "\n",
        "# Load libraries\n",
        "import numpy as np\n",
        "import os\n",
        "import cv2\n",
        "from time import time\n",
        "import matplotlib.pyplot as plt\n",
        "\n",
        "# Importing necessary functions/classes from scikit-learn\n",
        "from sklearn.model_selection import train_test_split  # For splitting data into training and testing sets\n",
        "from sklearn.preprocessing import LabelEncoder  # For encoding labels into numeric format\n",
        "from sklearn.utils import class_weight  # For calculating class weights\n",
        "from sklearn.metrics import confusion_matrix, precision_score, recall_score  # For evaluating model performance\n",
        "\n",
        "# Importing necessary functions/classes from Keras\n",
        "from keras.models import Model, Sequential, load_model  # For defining and loading neural network models\n",
        "from keras.layers import Input, Conv2D, MaxPooling2D, Dropout, Conv2DTranspose, concatenate, Flatten, Dense  # Different layers for building neural networks\n",
        "from keras.optimizers import Adam  # Optimizer for training the model\n",
        "from keras.utils import to_categorical  # For one-hot encoding of labels\n",
        "from keras.losses import binary_crossentropy, categorical_crossentropy  # Different loss functions\n",
        "from keras.metrics import MeanIoU, Precision, Recall, TrueNegatives, FalsePositives, FalseNegatives, PrecisionAtRecall, RecallAtPrecision  # Evaluation metrics\n",
        "from keras.callbacks import ModelCheckpoint, EarlyStopping  # Callbacks during training\n",
        "import keras.backend as K  # Keras backend for low-level operations\n",
        "\n",
        "# Importing necessary functions/classes from Google Colab\n",
        "from google.colab import drive  # For mounting Google Drive\n",
        "from google.colab.patches import cv2_imshow  # For displaying images"
      ]
    },
    {
      "cell_type": "code",
      "execution_count": 111,
      "metadata": {
        "id": "IqfpbBZXU9Za"
      },
      "outputs": [],
      "source": [
        "# Define maximum length and width of the images\n",
        "MAX_LENGTH = 128\n",
        "MAX_WIDTH = 128\n",
        "\n",
        "# Number of color channels in the images\n",
        "CHANNELS = 3\n",
        "\n",
        "# Set a seed for reproducibility\n",
        "seed = 10\n",
        "np.random.seed = seed\n"
      ]
    },
    {
      "cell_type": "code",
      "execution_count": 112,
      "metadata": {
        "colab": {
          "base_uri": "https://localhost:8080/"
        },
        "id": "OizSTN9SU_fw",
        "outputId": "b7c32d1e-b324-4d2c-e96f-776e452dbb83"
      },
      "outputs": [
        {
          "name": "stdout",
          "output_type": "stream",
          "text": [
            "Drive already mounted at /content/drive; to attempt to forcibly remount, call drive.mount(\"/content/drive\", force_remount=True).\n"
          ]
        }
      ],
      "source": [
        "# Mount Google Drive to access data if using Google Colab\n",
        "drive.mount('/content/drive')\n",
        "\n",
        "# Define the path where the data is located in Google Drive\n",
        "data_path = \"/content/drive/My Drive/RIGA 200 Images\"\n"
      ]
    },
    {
      "cell_type": "code",
      "execution_count": 113,
      "metadata": {
        "id": "Hb2aqtw1VBAD"
      },
      "outputs": [],
      "source": [
        "# Define a custom function to transform pixel values\n",
        "def transform_value(value):\n",
        "    if value < 1:  # If pixel value is less than 1\n",
        "        return 0  # Set pixel value to 0\n",
        "    elif 1 <= value <= 140:  # If pixel value is between 1 and 140 (inclusive)\n",
        "        return 128  # Set pixel value to 128\n",
        "    else:  # If pixel value is greater than 140\n",
        "        return 255  # Set pixel value to 255\n",
        "\n",
        "# Vectorize the custom function to apply it element-wise to an array\n",
        "vectorized_transform = np.vectorize(transform_value)\n"
      ]
    },
    {
      "cell_type": "code",
      "execution_count": 114,
      "metadata": {
        "id": "BluIwpejVCU_"
      },
      "outputs": [],
      "source": [
        "# Load and preprocess data\n",
        "def load_data(data_path, image_ext=\".png\", mask_ext=\".tif\"):\n",
        "    # Get a list of image files and mask files in the specified directory\n",
        "    image_files = [f for f in os.listdir(data_path) if f.endswith(image_ext)]\n",
        "    mask_files = [f for f in os.listdir(data_path) if f.endswith(mask_ext)]\n",
        "\n",
        "    # Initialize lists to store images, masks, and modified masks\n",
        "    images = []\n",
        "    masks = []\n",
        "    modifiedMasks = []\n",
        "\n",
        "    # Iterate over each image file\n",
        "    for image_file in image_files:\n",
        "        # Get the full path of the image\n",
        "        img_path = os.path.join(data_path, image_file)\n",
        "\n",
        "        # Generate the corresponding mask file name\n",
        "        mask_file = image_file.split('.')[0] + mask_ext\n",
        "        # Get the full path of the mask\n",
        "        mask_path = os.path.join(data_path, mask_file)\n",
        "\n",
        "        # Check if the mask file exists\n",
        "        if os.path.exists(mask_path):\n",
        "            # Read the image in BGR format\n",
        "            img = cv2.imread(img_path, cv2.IMREAD_COLOR)\n",
        "            # Convert the image to YCrCb color space\n",
        "            img = cv2.cvtColor(img, cv2.COLOR_BGR2YCrCb)\n",
        "            # Read the mask in grayscale\n",
        "            mask = cv2.imread(mask_path, cv2.IMREAD_GRAYSCALE)\n",
        "\n",
        "            # Resize image and mask to match specified dimensions\n",
        "            img = cv2.resize(img, (MAX_LENGTH, MAX_WIDTH))\n",
        "            mask = cv2.resize(mask, (MAX_LENGTH, MAX_WIDTH))\n",
        "\n",
        "            # Standardize the image by centering its pixels\n",
        "            img = (img - np.mean(img)) / np.std(img)\n",
        "\n",
        "            # Append the preprocessed image and mask to their respective lists\n",
        "            images.append(img)\n",
        "            masks.append(mask)\n",
        "\n",
        "            # Create a copy of the mask for modification\n",
        "            modifiedMasks.append(masks[-1])\n",
        "\n",
        "            # Apply the vectorized transform function to the modified mask\n",
        "            modifiedMasks[-1] = vectorized_transform(modifiedMasks[-1])\n",
        "\n",
        "    # Convert lists to NumPy arrays\n",
        "    return np.array(images), np.array(masks), np.array(modifiedMasks)\n"
      ]
    },
    {
      "cell_type": "code",
      "execution_count": 115,
      "metadata": {
        "id": "xjnYqUioVDyW"
      },
      "outputs": [],
      "source": [
        "# Define U-Net model\n",
        "def unet_model(input_shape):\n",
        "    # Define input layer\n",
        "    inputs = Input(input_shape)\n",
        "\n",
        "    # Encoder\n",
        "    # First convolutional block\n",
        "    conv1 = Conv2D(64, 3, activation='relu', padding='same', kernel_initializer='he_normal')(inputs)\n",
        "    pool1 = MaxPooling2D(pool_size=(2, 2))(conv1)\n",
        "    # Second convolutional block\n",
        "    conv2 = Conv2D(128, 3, activation='relu', padding='same', kernel_initializer='he_normal')(pool1)\n",
        "    pool2 = MaxPooling2D(pool_size=(2, 2))(conv2)\n",
        "    # Third convolutional block\n",
        "    conv3 = Conv2D(256, 3, activation='relu', padding='same', kernel_initializer='he_normal')(pool2)\n",
        "    pool3 = MaxPooling2D(pool_size=(2, 2))(conv3)\n",
        "    # Fourth convolutional block\n",
        "    conv4 = Conv2D(512, 3, activation='relu', padding='same', kernel_initializer='he_normal')(pool3)\n",
        "    drop4 = Dropout(0.5)(conv4)\n",
        "    pool4 = MaxPooling2D(pool_size=(2, 2))(drop4)\n",
        "\n",
        "    # Bottleneck\n",
        "    # Fifth convolutional block (bottleneck)\n",
        "    conv5 = Conv2D(1024, 3, activation='relu', padding='same', kernel_initializer='he_normal')(pool4)\n",
        "    drop5 = Dropout(0.5)(conv5)\n",
        "\n",
        "    # Decoder\n",
        "    # First upsampling block\n",
        "    up6 = Conv2DTranspose(512, (2, 2), strides=(2, 2), padding='same')(drop5)\n",
        "    merge6 = concatenate([up6, conv4], axis=3)\n",
        "    conv6 = Conv2D(512, 3, activation='relu', padding='same', kernel_initializer='he_normal')(merge6)\n",
        "    # Second upsampling block\n",
        "    up7 = Conv2DTranspose(256, (2, 2), strides=(2, 2), padding='same')(conv6)\n",
        "    merge7 = concatenate([up7, conv3], axis=3)\n",
        "    conv7 = Conv2D(256, 3, activation='relu', padding='same', kernel_initializer='he_normal')(merge7)\n",
        "\n",
        "    # Third upsampling block\n",
        "    up8 = Conv2DTranspose(128, (2, 2), strides=(2, 2), padding='same')(conv7)\n",
        "    merge8 = concatenate([up8, conv2], axis=3)\n",
        "    conv8 = Conv2D(128, 3, activation='relu', padding='same', kernel_initializer='he_normal')(merge8)\n",
        "    # Fourth upsampling block\n",
        "    up9 = Conv2DTranspose(64, (2, 2), strides=(2, 2), padding='same')(conv8)\n",
        "    merge9 = concatenate([up9, conv1], axis=3)\n",
        "    conv9 = Conv2D(64, 3, activation='relu', padding='same', kernel_initializer='he_normal')(merge9)\n",
        "\n",
        "    # Output layer\n",
        "    # Change the number of output channels to 3 for multi-class classification and the activation to 'softmax'\n",
        "    conv10 = Conv2D(3, 1, activation='softmax')(conv9)\n",
        "\n",
        "    # Create and return the model\n",
        "    model = Model(inputs=inputs, outputs=conv10)\n",
        "    return model\n"
      ]
    },
    {
      "cell_type": "code",
      "execution_count": 116,
      "metadata": {
        "colab": {
          "base_uri": "https://localhost:8080/"
        },
        "id": "FnaozN8OVHKX",
        "outputId": "27aa22a9-fc04-46e5-f767-aa04d6dc928a"
      },
      "outputs": [
        {
          "name": "stderr",
          "output_type": "stream",
          "text": [
            "/usr/local/lib/python3.10/dist-packages/sklearn/preprocessing/_label.py:116: DataConversionWarning: A column-vector y was passed when a 1d array was expected. Please change the shape of y to (n_samples, ), for example using ravel().\n",
            "  y = column_or_1d(y, warn=True)\n"
          ]
        }
      ],
      "source": [
        "# Load data\n",
        "# Load images and their corresponding modified masks from the specified data path\n",
        "X, y, modifiedMasks = load_data(data_path)\n",
        "\n",
        "# Initialize a LabelEncoder object\n",
        "labelEncoder = LabelEncoder()\n",
        "\n",
        "# Get the dimensions of the modified masks array\n",
        "n, h, w = modifiedMasks.shape\n",
        "\n",
        "# Reshape the modified masks array to a 2D array\n",
        "modifiedMasks_reshaped = modifiedMasks.reshape(-1, 1)\n",
        "\n",
        "# Encode the values of the modified masks using LabelEncoder\n",
        "modifiedMasks_reshaped_encoded = labelEncoder.fit_transform(modifiedMasks_reshaped)\n",
        "\n",
        "# Reshape the encoded array back to its original shape\n",
        "modifiedMasks = modifiedMasks_reshaped_encoded.reshape(n, h, w)\n",
        "\n",
        "# Split data into training and testing sets\n",
        "# Split the data into training and testing sets with a ratio of 80:20\n",
        "X_train, X_test, y_train, y_test = train_test_split(X, modifiedMasks, test_size=0.2, random_state=42)\n",
        "\n",
        "# Convert labels to categorical format\n",
        "# Convert the labels in y_train to categorical format with 3 classes\n",
        "y_train = to_categorical(y_train, 3)\n",
        "\n",
        "# Convert the labels in y_test to categorical format with 3 classes\n",
        "y_test = to_categorical(y_test, 3)\n"
      ]
    },
    {
      "cell_type": "code",
      "execution_count": 117,
      "metadata": {
        "colab": {
          "base_uri": "https://localhost:8080/",
          "height": 411
        },
        "id": "JrJfD5KRVIRQ",
        "outputId": "662d3553-1b7a-4350-ce76-32aebff6c94f"
      },
      "outputs": [
        {
          "data": {
            "image/png": "[encoded data removed]",
            "text/plain": [
              "<Figure size 1000x500 with 2 Axes>"
            ]
          },
          "metadata": {},
          "output_type": "display_data"
        }
      ],
      "source": [
        "# Generate a random index within the range of the labels array length\n",
        "idx = np.random.randint(0, len(y))\n",
        "\n",
        "# Get the original mask and modified mask corresponding to the random index\n",
        "mask = y[idx]  # Original mask\n",
        "mm = modifiedMasks[idx]  # Modified mask\n",
        "\n",
        "# Plot the original image and the modified masks\n",
        "plt.figure(figsize=(10, 5))\n",
        "\n",
        "# Original mask\n",
        "plt.subplot(1, 2, 1)\n",
        "plt.imshow(mask, cmap='gray')\n",
        "plt.title('Original Mask')\n",
        "plt.axis('off')\n",
        "\n",
        "# Modified mask\n",
        "plt.subplot(1, 2, 2)\n",
        "plt.imshow(mm, cmap='gray')\n",
        "plt.title('Modified Mask')\n",
        "plt.axis('off')\n",
        "\n",
        "# Show the plot\n",
        "plt.show()\n"
      ]
    },
    {
      "cell_type": "code",
      "execution_count": 118,
      "metadata": {
        "colab": {
          "base_uri": "https://localhost:8080/"
        },
        "id": "Om2p9XNkVL0c",
        "outputId": "36aa23f4-94d0-4b82-9fcf-1af6b063e867"
      },
      "outputs": [
        {
          "name": "stdout",
          "output_type": "stream",
          "text": [
            "Model: \"model_4\"\n",
            "__________________________________________________________________________________________________\n",
            " Layer (type)                Output Shape                 Param #   Connected to                  \n",
            "==================================================================================================\n",
            " input_5 (InputLayer)        [(None, 128, 128, 3)]        0         []                            \n",
            "                                                                                                  \n",
            " conv2d_40 (Conv2D)          (None, 128, 128, 64)         1792      ['input_5[0][0]']             \n",
            "                                                                                                  \n",
            " max_pooling2d_16 (MaxPooli  (None, 64, 64, 64)           0         ['conv2d_40[0][0]']           \n",
            " ng2D)                                                                                            \n",
            "                                                                                                  \n",
            " conv2d_41 (Conv2D)          (None, 64, 64, 128)          73856     ['max_pooling2d_16[0][0]']    \n",
            "                                                                                                  \n",
            " max_pooling2d_17 (MaxPooli  (None, 32, 32, 128)          0         ['conv2d_41[0][0]']           \n",
            " ng2D)                                                                                            \n",
            "                                                                                                  \n",
            " conv2d_42 (Conv2D)          (None, 32, 32, 256)          295168    ['max_pooling2d_17[0][0]']    \n",
            "                                                                                                  \n",
            " max_pooling2d_18 (MaxPooli  (None, 16, 16, 256)          0         ['conv2d_42[0][0]']           \n",
            " ng2D)                                                                                            \n",
            "                                                                                                  \n",
            " conv2d_43 (Conv2D)          (None, 16, 16, 512)          1180160   ['max_pooling2d_18[0][0]']    \n",
            "                                                                                                  \n",
            " dropout_8 (Dropout)         (None, 16, 16, 512)          0         ['conv2d_43[0][0]']           \n",
            "                                                                                                  \n",
            " max_pooling2d_19 (MaxPooli  (None, 8, 8, 512)            0         ['dropout_8[0][0]']           \n",
            " ng2D)                                                                                            \n",
            "                                                                                                  \n",
            " conv2d_44 (Conv2D)          (None, 8, 8, 1024)           4719616   ['max_pooling2d_19[0][0]']    \n",
            "                                                                                                  \n",
            " dropout_9 (Dropout)         (None, 8, 8, 1024)           0         ['conv2d_44[0][0]']           \n",
            "                                                                                                  \n",
            " conv2d_transpose_16 (Conv2  (None, 16, 16, 512)          2097664   ['dropout_9[0][0]']           \n",
            " DTranspose)                                                                                      \n",
            "                                                                                                  \n",
            " concatenate_16 (Concatenat  (None, 16, 16, 1024)         0         ['conv2d_transpose_16[0][0]', \n",
            " e)                                                                  'conv2d_43[0][0]']           \n",
            "                                                                                                  \n",
            " conv2d_45 (Conv2D)          (None, 16, 16, 512)          4719104   ['concatenate_16[0][0]']      \n",
            "                                                                                                  \n",
            " conv2d_transpose_17 (Conv2  (None, 32, 32, 256)          524544    ['conv2d_45[0][0]']           \n",
            " DTranspose)                                                                                      \n",
            "                                                                                                  \n",
            " concatenate_17 (Concatenat  (None, 32, 32, 512)          0         ['conv2d_transpose_17[0][0]', \n",
            " e)                                                                  'conv2d_42[0][0]']           \n",
            "                                                                                                  \n",
            " conv2d_46 (Conv2D)          (None, 32, 32, 256)          1179904   ['concatenate_17[0][0]']      \n",
            "                                                                                                  \n",
            " conv2d_transpose_18 (Conv2  (None, 64, 64, 128)          131200    ['conv2d_46[0][0]']           \n",
            " DTranspose)                                                                                      \n",
            "                                                                                                  \n",
            " concatenate_18 (Concatenat  (None, 64, 64, 256)          0         ['conv2d_transpose_18[0][0]', \n",
            " e)                                                                  'conv2d_41[0][0]']           \n",
            "                                                                                                  \n",
            " conv2d_47 (Conv2D)          (None, 64, 64, 128)          295040    ['concatenate_18[0][0]']      \n",
            "                                                                                                  \n",
            " conv2d_transpose_19 (Conv2  (None, 128, 128, 64)         32832     ['conv2d_47[0][0]']           \n",
            " DTranspose)                                                                                      \n",
            "                                                                                                  \n",
            " concatenate_19 (Concatenat  (None, 128, 128, 128)        0         ['conv2d_transpose_19[0][0]', \n",
            " e)                                                                  'conv2d_40[0][0]']           \n",
            "                                                                                                  \n",
            " conv2d_48 (Conv2D)          (None, 128, 128, 64)         73792     ['concatenate_19[0][0]']      \n",
            "                                                                                                  \n",
            " conv2d_49 (Conv2D)          (None, 128, 128, 3)          195       ['conv2d_48[0][0]']           \n",
            "                                                                                                  \n",
            "==================================================================================================\n",
            "Total params: 15324867 (58.46 MB)\n",
            "Trainable params: 15324867 (58.46 MB)\n",
            "Non-trainable params: 0 (0.00 Byte)\n",
            "__________________________________________________________________________________________________\n",
            "None\n"
          ]
        }
      ],
      "source": [
        "# Define U-Net model\n",
        "# Define input shape based on MAX_LENGTH, MAX_WIDTH, and CHANNELS\n",
        "input_shape = (MAX_LENGTH, MAX_WIDTH, CHANNELS)\n",
        "\n",
        "# Create the U-Net model\n",
        "model = unet_model(input_shape)\n",
        "\n",
        "# Compile the model\n",
        "# Use Adam optimizer with default learning rate\n",
        "# Use categorical cross-entropy as the loss function for multi-class classification\n",
        "# Use MeanIoU, accuracy, Precision, and Recall as metrics\n",
        "model.compile(optimizer=Adam(), loss=categorical_crossentropy, metrics=[MeanIoU(num_classes=3), 'accuracy', Precision(), Recall()])\n",
        "\n",
        "# Define callbacks\n",
        "# ModelCheckpoint: Save the model with the highest mean IoU during validation\n",
        "# EarlyStopping: Stop training if there is no improvement in mean IoU for 5 consecutive epochs\n",
        "checkpoint = ModelCheckpoint('unet_optic_disk_segmentation.keras', monitor='val_mean_io_u_3', verbose=1, save_best_only=True, mode='max')\n",
        "early_stopping = EarlyStopping(monitor='val_loss', patience=5, verbose=1, mode='min', restore_best_weights=True)\n",
        "\n",
        "# Print the summary of the model architecture\n",
        "print(model.summary())\n"
      ]
    },
    {
      "cell_type": "code",
      "execution_count": 119,
      "metadata": {
        "colab": {
          "base_uri": "https://localhost:8080/"
        },
        "id": "WJxL6FwheyLg",
        "outputId": "b70f2f8a-c849-486a-dbb9-c63258c45258"
      },
      "outputs": [
        {
          "name": "stdout",
          "output_type": "stream",
          "text": [
            "Epoch 1/50\n",
            "5/5 [==============================] - 5s 157ms/step - loss: 0.2477 - mean_io_u_4: 0.3333 - accuracy: 0.9267 - precision_4: 0.9626 - recall_4: 0.8924\n",
            "Epoch 2/50\n",
            "5/5 [==============================] - 1s 143ms/step - loss: 0.0767 - mean_io_u_4: 0.4024 - accuracy: 0.9825 - precision_4: 0.9842 - recall_4: 0.9812\n",
            "Epoch 3/50\n",
            "5/5 [==============================] - 1s 143ms/step - loss: 0.0620 - mean_io_u_4: 0.4246 - accuracy: 0.9834 - precision_4: 0.9875 - recall_4: 0.9794\n",
            "Epoch 4/50\n",
            "5/5 [==============================] - 1s 142ms/step - loss: 0.0550 - mean_io_u_4: 0.4423 - accuracy: 0.9844 - precision_4: 0.9860 - recall_4: 0.9829\n",
            "Epoch 5/50\n",
            "5/5 [==============================] - 1s 142ms/step - loss: 0.0507 - mean_io_u_4: 0.4437 - accuracy: 0.9848 - precision_4: 0.9862 - recall_4: 0.9836\n",
            "Epoch 6/50\n",
            "5/5 [==============================] - 1s 144ms/step - loss: 0.0422 - mean_io_u_4: 0.4491 - accuracy: 0.9858 - precision_4: 0.9885 - recall_4: 0.9832\n",
            "Epoch 7/50\n",
            "5/5 [==============================] - 1s 144ms/step - loss: 0.0329 - mean_io_u_4: 0.4628 - accuracy: 0.9874 - precision_4: 0.9885 - recall_4: 0.9862\n",
            "Epoch 8/50\n",
            "5/5 [==============================] - 1s 147ms/step - loss: 0.0237 - mean_io_u_4: 0.5189 - accuracy: 0.9902 - precision_4: 0.9911 - recall_4: 0.9893\n",
            "Epoch 9/50\n",
            "5/5 [==============================] - 1s 147ms/step - loss: 0.0370 - mean_io_u_4: 0.5804 - accuracy: 0.9870 - precision_4: 0.9874 - recall_4: 0.9865\n",
            "Epoch 10/50\n",
            "5/5 [==============================] - 1s 148ms/step - loss: 0.0249 - mean_io_u_4: 0.4874 - accuracy: 0.9902 - precision_4: 0.9907 - recall_4: 0.9897\n",
            "Epoch 11/50\n",
            "5/5 [==============================] - 1s 147ms/step - loss: 0.0208 - mean_io_u_4: 0.4916 - accuracy: 0.9916 - precision_4: 0.9927 - recall_4: 0.9902\n",
            "Epoch 12/50\n",
            "5/5 [==============================] - 1s 144ms/step - loss: 0.0177 - mean_io_u_4: 0.5438 - accuracy: 0.9927 - precision_4: 0.9929 - recall_4: 0.9926\n",
            "Epoch 13/50\n",
            "5/5 [==============================] - 1s 144ms/step - loss: 0.0173 - mean_io_u_4: 0.6047 - accuracy: 0.9927 - precision_4: 0.9928 - recall_4: 0.9926\n",
            "Epoch 14/50\n",
            "5/5 [==============================] - 1s 143ms/step - loss: 0.0149 - mean_io_u_4: 0.6248 - accuracy: 0.9940 - precision_4: 0.9941 - recall_4: 0.9939\n",
            "Epoch 15/50\n",
            "5/5 [==============================] - 1s 144ms/step - loss: 0.0149 - mean_io_u_4: 0.6342 - accuracy: 0.9940 - precision_4: 0.9941 - recall_4: 0.9939\n",
            "Epoch 16/50\n",
            "5/5 [==============================] - 1s 144ms/step - loss: 0.0135 - mean_io_u_4: 0.6228 - accuracy: 0.9945 - precision_4: 0.9946 - recall_4: 0.9944\n",
            "Epoch 17/50\n",
            "5/5 [==============================] - 1s 144ms/step - loss: 0.0129 - mean_io_u_4: 0.6242 - accuracy: 0.9946 - precision_4: 0.9946 - recall_4: 0.9945\n",
            "Epoch 18/50\n",
            "5/5 [==============================] - 1s 145ms/step - loss: 0.0121 - mean_io_u_4: 0.6677 - accuracy: 0.9950 - precision_4: 0.9950 - recall_4: 0.9949\n",
            "Epoch 19/50\n",
            "5/5 [==============================] - 1s 145ms/step - loss: 0.0126 - mean_io_u_4: 0.6896 - accuracy: 0.9948 - precision_4: 0.9948 - recall_4: 0.9947\n",
            "Epoch 20/50\n",
            "5/5 [==============================] - 1s 145ms/step - loss: 0.0126 - mean_io_u_4: 0.7142 - accuracy: 0.9947 - precision_4: 0.9947 - recall_4: 0.9946\n",
            "Epoch 21/50\n",
            "5/5 [==============================] - 1s 146ms/step - loss: 0.0109 - mean_io_u_4: 0.6715 - accuracy: 0.9954 - precision_4: 0.9955 - recall_4: 0.9954\n",
            "Epoch 22/50\n",
            "5/5 [==============================] - 1s 146ms/step - loss: 0.0099 - mean_io_u_4: 0.6895 - accuracy: 0.9958 - precision_4: 0.9958 - recall_4: 0.9958\n",
            "Epoch 23/50\n",
            "5/5 [==============================] - 1s 146ms/step - loss: 0.0116 - mean_io_u_4: 0.7209 - accuracy: 0.9951 - precision_4: 0.9952 - recall_4: 0.9951\n",
            "Epoch 24/50\n",
            "5/5 [==============================] - 1s 146ms/step - loss: 0.0133 - mean_io_u_4: 0.6976 - accuracy: 0.9942 - precision_4: 0.9943 - recall_4: 0.9942\n",
            "Epoch 25/50\n",
            "5/5 [==============================] - 1s 146ms/step - loss: 0.0122 - mean_io_u_4: 0.6719 - accuracy: 0.9947 - precision_4: 0.9947 - recall_4: 0.9946\n",
            "Epoch 26/50\n",
            "5/5 [==============================] - 1s 151ms/step - loss: 0.0110 - mean_io_u_4: 0.6768 - accuracy: 0.9954 - precision_4: 0.9954 - recall_4: 0.9953\n",
            "Epoch 27/50\n",
            "5/5 [==============================] - 1s 150ms/step - loss: 0.0111 - mean_io_u_4: 0.6709 - accuracy: 0.9952 - precision_4: 0.9952 - recall_4: 0.9952\n",
            "Epoch 28/50\n",
            "5/5 [==============================] - 1s 150ms/step - loss: 0.0097 - mean_io_u_4: 0.6946 - accuracy: 0.9960 - precision_4: 0.9960 - recall_4: 0.9959\n",
            "Epoch 29/50\n",
            "5/5 [==============================] - 1s 150ms/step - loss: 0.0090 - mean_io_u_4: 0.7481 - accuracy: 0.9962 - precision_4: 0.9962 - recall_4: 0.9962\n",
            "Epoch 30/50\n",
            "5/5 [==============================] - 1s 148ms/step - loss: 0.0084 - mean_io_u_4: 0.7800 - accuracy: 0.9965 - precision_4: 0.9965 - recall_4: 0.9964\n",
            "Epoch 31/50\n",
            "5/5 [==============================] - 1s 147ms/step - loss: 0.0083 - mean_io_u_4: 0.7860 - accuracy: 0.9965 - precision_4: 0.9965 - recall_4: 0.9965\n",
            "Epoch 32/50\n",
            "5/5 [==============================] - 1s 147ms/step - loss: 0.0079 - mean_io_u_4: 0.7666 - accuracy: 0.9968 - precision_4: 0.9968 - recall_4: 0.9968\n",
            "Epoch 33/50\n",
            "5/5 [==============================] - 1s 148ms/step - loss: 0.0078 - mean_io_u_4: 0.7844 - accuracy: 0.9967 - precision_4: 0.9967 - recall_4: 0.9967\n",
            "Epoch 34/50\n",
            "5/5 [==============================] - 1s 149ms/step - loss: 0.0083 - mean_io_u_4: 0.7780 - accuracy: 0.9964 - precision_4: 0.9964 - recall_4: 0.9964\n",
            "Epoch 35/50\n",
            "5/5 [==============================] - 1s 149ms/step - loss: 0.0079 - mean_io_u_4: 0.7933 - accuracy: 0.9967 - precision_4: 0.9967 - recall_4: 0.9967\n",
            "Epoch 36/50\n",
            "5/5 [==============================] - 1s 148ms/step - loss: 0.0075 - mean_io_u_4: 0.7823 - accuracy: 0.9968 - precision_4: 0.9968 - recall_4: 0.9968\n",
            "Epoch 37/50\n",
            "5/5 [==============================] - 1s 149ms/step - loss: 0.0083 - mean_io_u_4: 0.8025 - accuracy: 0.9965 - precision_4: 0.9965 - recall_4: 0.9965\n",
            "Epoch 38/50\n",
            "5/5 [==============================] - 1s 148ms/step - loss: 0.0075 - mean_io_u_4: 0.7878 - accuracy: 0.9968 - precision_4: 0.9968 - recall_4: 0.9968\n",
            "Epoch 39/50\n",
            "5/5 [==============================] - 1s 149ms/step - loss: 0.0077 - mean_io_u_4: 0.7821 - accuracy: 0.9967 - precision_4: 0.9968 - recall_4: 0.9967\n",
            "Epoch 40/50\n",
            "5/5 [==============================] - 1s 148ms/step - loss: 0.0080 - mean_io_u_4: 0.7801 - accuracy: 0.9966 - precision_4: 0.9966 - recall_4: 0.9966\n",
            "Epoch 41/50\n",
            "5/5 [==============================] - 1s 147ms/step - loss: 0.0078 - mean_io_u_4: 0.7771 - accuracy: 0.9966 - precision_4: 0.9966 - recall_4: 0.9966\n",
            "Epoch 42/50\n",
            "5/5 [==============================] - 1s 148ms/step - loss: 0.0075 - mean_io_u_4: 0.7888 - accuracy: 0.9968 - precision_4: 0.9968 - recall_4: 0.9968\n",
            "Epoch 43/50\n",
            "5/5 [==============================] - 1s 149ms/step - loss: 0.0072 - mean_io_u_4: 0.8114 - accuracy: 0.9970 - precision_4: 0.9970 - recall_4: 0.9970\n",
            "Epoch 44/50\n",
            "5/5 [==============================] - 1s 151ms/step - loss: 0.0073 - mean_io_u_4: 0.7749 - accuracy: 0.9969 - precision_4: 0.9969 - recall_4: 0.9969\n",
            "Epoch 45/50\n",
            "5/5 [==============================] - 1s 151ms/step - loss: 0.0077 - mean_io_u_4: 0.7756 - accuracy: 0.9967 - precision_4: 0.9967 - recall_4: 0.9967\n",
            "Epoch 46/50\n",
            "5/5 [==============================] - 1s 150ms/step - loss: 0.0071 - mean_io_u_4: 0.7881 - accuracy: 0.9969 - precision_4: 0.9969 - recall_4: 0.9969\n",
            "Epoch 47/50\n",
            "5/5 [==============================] - 1s 151ms/step - loss: 0.0062 - mean_io_u_4: 0.8121 - accuracy: 0.9974 - precision_4: 0.9974 - recall_4: 0.9974\n",
            "Epoch 48/50\n",
            "5/5 [==============================] - 1s 149ms/step - loss: 0.0062 - mean_io_u_4: 0.8109 - accuracy: 0.9974 - precision_4: 0.9974 - recall_4: 0.9974\n",
            "Epoch 49/50\n",
            "5/5 [==============================] - 1s 148ms/step - loss: 0.0060 - mean_io_u_4: 0.8262 - accuracy: 0.9974 - precision_4: 0.9974 - recall_4: 0.9974\n",
            "Epoch 50/50\n",
            "5/5 [==============================] - 1s 146ms/step - loss: 0.0064 - mean_io_u_4: 0.8177 - accuracy: 0.9972 - precision_4: 0.9972 - recall_4: 0.9972\n"
          ]
        }
      ],
      "source": [
        "# Train the model\n",
        "history = model.fit(X_train, y_train, epochs=50, batch_size=16)"
      ]
    },
    {
      "cell_type": "code",
      "execution_count": 120,
      "metadata": {
        "colab": {
          "base_uri": "https://localhost:8080/"
        },
        "id": "PLbnXIsMVM81",
        "outputId": "32ee0554-ab7a-43ed-ba63-6fd2c95f1709"
      },
      "outputs": [
        {
          "name": "stdout",
          "output_type": "stream",
          "text": [
            "Test Loss: 0.0112, Test IoU: 0.7883, Test Accuracy: 0.9955, Test Precision: 0.9955, Test Recall: 0.9955\n"
          ]
        }
      ],
      "source": [
        "# Evaluate the model on the test data\n",
        "test_loss, test_iou, accuracy, prec, rec = model.evaluate(X_test, y_test, verbose=0)  # Evaluate the model\n",
        "end = time()  # Record the end time\n",
        "\n",
        "# Print the evaluation metrics\n",
        "print(f'Test Loss: {test_loss:.4f}, Test IoU: {test_iou:.4f}, Test Accuracy: {accuracy:.4f}, Test Precision: {prec:.4f}, Test Recall: {rec:.4f}')\n",
        "\n",
        "# Save the trained model\n",
        "# model.save('/content/drive/MyDrive/UNET MODELS/unet_optic_disk_segmentation_final_HSV.keras')\n"
      ]
    },
    {
      "cell_type": "code",
      "execution_count": 121,
      "metadata": {
        "colab": {
          "base_uri": "https://localhost:8080/"
        },
        "id": "FQmkJ2OX90Ut",
        "outputId": "65382dc8-bb93-4998-d244-9db185d4e191"
      },
      "outputs": [
        {
          "name": "stdout",
          "output_type": "stream",
          "text": [
            "1/1 [==============================] - 0s 282ms/step\n",
            "Time taken: 35.89324951171875 milliseconds\n"
          ]
        }
      ],
      "source": [
        "# Evaluate the model on the test data\n",
        "t0 = time()  # Record the start time\n",
        "predicted_mask = model.predict(np.expand_dims(X_test[0], axis=0))[0]\n",
        "end = time()  # Record the end time\n",
        "\n",
        "# Calculate the time taken for evaluation in milliseconds\n",
        "time_diff_ms = (end - t0) * 100\n",
        "print(\"Time taken:\", time_diff_ms, \"milliseconds\")"
      ]
    },
    {
      "cell_type": "code",
      "execution_count": 122,
      "metadata": {
        "id": "IEt4A3SuzYVZ"
      },
      "outputs": [],
      "source": [
        "# Load Saved trained Model\n",
        "# model = load_model('/content/drive/MyDrive/UNET MODELS/unet_optic_disk_segmentation_final_YCrCb.keras')"
      ]
    },
    {
      "cell_type": "code",
      "execution_count": 123,
      "metadata": {
        "colab": {
          "base_uri": "https://localhost:8080/"
        },
        "id": "b4G4J4tqVPCw",
        "outputId": "d740ef5e-bd30-4567-bfba-9b23d5e5e139"
      },
      "outputs": [
        {
          "name": "stdout",
          "output_type": "stream",
          "text": [
            "1/1 [==============================] - 0s 27ms/step\n",
            "Errors:  0.018611218072134526\n",
            "1/1 [==============================] - 0s 27ms/step\n",
            "Errors:  0.004115226337448541\n",
            "1/1 [==============================] - 0s 33ms/step\n",
            "Errors:  0.004867302568597821\n",
            "1/1 [==============================] - 0s 29ms/step\n",
            "Errors:  0.019588293941704298\n",
            "1/1 [==============================] - 0s 28ms/step\n",
            "Errors:  0.05930796307365344\n",
            "1/1 [==============================] - 0s 27ms/step\n",
            "Errors:  0.025595686706475756\n",
            "1/1 [==============================] - 0s 38ms/step\n",
            "Errors:  0.04187925170068024\n",
            "1/1 [==============================] - 0s 21ms/step\n",
            "Errors:  0.13900134952766535\n",
            "1/1 [==============================] - 0s 18ms/step\n",
            "Errors:  0.031093786656560738\n",
            "1/1 [==============================] - 0s 19ms/step\n",
            "Errors:  0.056711218303018125\n",
            "1/1 [==============================] - 0s 19ms/step\n",
            "Errors:  0.019740663622309012\n",
            "1/1 [==============================] - 0s 18ms/step\n",
            "Errors:  0.10531303497187576\n",
            "1/1 [==============================] - 0s 20ms/step\n",
            "Errors:  0.07896304237767653\n",
            "1/1 [==============================] - 0s 21ms/step\n",
            "Errors:  0.016352062347660755\n",
            "1/1 [==============================] - 0s 20ms/step\n",
            "Errors:  0.01758043221457856\n",
            "1/1 [==============================] - 0s 20ms/step\n",
            "Errors:  0.1226586102719033\n",
            "1/1 [==============================] - 0s 19ms/step\n",
            "Errors:  0.007821782178217834\n",
            "1/1 [==============================] - 0s 20ms/step\n",
            "Errors:  0.08785063113604488\n",
            "1/1 [==============================] - 0s 22ms/step\n",
            "Errors:  0.09401663695781344\n",
            "1/1 [==============================] - 0s 22ms/step\n",
            "Errors:  0.007342619587517556\n"
          ]
        }
      ],
      "source": [
        "sum_errors = 0  # Initialize variable to store the sum of errors\n",
        "\n",
        "# Loop through each image in the test set\n",
        "for idx in range(len(X_test)):\n",
        "\n",
        "    # Select an image from X_test and its corresponding ground truth mask\n",
        "    image = X_test[idx]\n",
        "    mask = y_test[idx]\n",
        "\n",
        "    # Perform inference to obtain the predicted mask\n",
        "    predicted_mask = model.predict(np.expand_dims(image, axis=0))[0]\n",
        "\n",
        "    # Convert the predicted mask to grayscale\n",
        "    grayscale_mask = np.dot(predicted_mask[..., :3], [0.2989, 0.5870, 0.1140])\n",
        "\n",
        "    # Scale the grayscale mask to the range [0, 255]\n",
        "    scaled_mask = grayscale_mask * 255\n",
        "\n",
        "    # Extract pixels for optic disc and cup based on threshold values\n",
        "    extracted_pixels_disk = np.where(scaled_mask > 140, scaled_mask, 255)\n",
        "    extracted_pixels_cup = np.where(scaled_mask > 70, scaled_mask, 0)\n",
        "\n",
        "    # Set non-disk pixels to 255 (white)\n",
        "    maskCup = extracted_pixels_cup != 0\n",
        "    extracted_pixels_cup[maskCup] = 255\n",
        "\n",
        "    # Count total non-white pixels for disk and cup\n",
        "    total_pixels_not_255_disk = np.count_nonzero(extracted_pixels_disk != 255)\n",
        "    total_pixels_not_255_cup = np.count_nonzero(extracted_pixels_cup != 255)\n",
        "\n",
        "    # Calculate total pixels for disk and cup\n",
        "    totalDisk = total_pixels_not_255_disk + total_pixels_not_255_cup\n",
        "    totalCup = total_pixels_not_255_cup\n",
        "\n",
        "    # Calculate the cup-to-disk ratio (CDR)\n",
        "    ratioPred = totalCup / (totalDisk + 1)\n",
        "\n",
        "\n",
        "    # Calculate the total non-white pixels in the original mask for disk and cup\n",
        "    grayscale_original = np.dot(mask[..., :3], [0.2989, 0.5870, 0.1140])\n",
        "    original_scaled = grayscale_original * 255\n",
        "    original_scaled = cv2.convertScaleAbs(original_scaled)\n",
        "    total_pixels_original_disk = np.count_nonzero(original_scaled == 150)\n",
        "    total_pixels_original_cup = np.count_nonzero(original_scaled == 29)\n",
        "\n",
        "    # Calculate total pixels for disk and cup in the original mask\n",
        "    totalDiskOriginal = total_pixels_original_disk + total_pixels_original_cup\n",
        "    totalCupOriginal = total_pixels_original_cup\n",
        "\n",
        "    # Calculate the original cup-to-disk ratio (CDR)\n",
        "    ratioPredOriginal = totalCupOriginal / totalDiskOriginal\n",
        "\n",
        "    # Calculate the error between the predicted and original CDRs\n",
        "    error = (ratioPredOriginal - ratioPred) / (ratioPred + 1)\n",
        "    error = abs(error)\n",
        "\n",
        "    print('Errors: ', error)\n",
        "\n",
        "    # Accumulate the error\n",
        "    sum_errors += error"
      ]
    },
    {
      "cell_type": "code",
      "execution_count": 124,
      "metadata": {
        "colab": {
          "base_uri": "https://localhost:8080/"
        },
        "id": "Kwew_ZlAysyw",
        "outputId": "470009f6-d083-41d7-99f3-3eae4aea765e"
      },
      "outputs": [
        {
          "name": "stdout",
          "output_type": "stream",
          "text": [
            "1/1 [==============================] - 0s 20ms/step\n"
          ]
        }
      ],
      "source": [
        "# Perform predictions on the test set\n",
        "y_pred = model.predict(X_test)\n",
        "\n",
        "# Get the index of the highest predicted class probability for each pixel\n",
        "y_pred_argmax = np.argmax(y_pred, axis=3)\n"
      ]
    },
    {
      "cell_type": "code",
      "execution_count": 125,
      "metadata": {
        "id": "CWVpaTIQ3l35"
      },
      "outputs": [],
      "source": [
        "y_pred_binary = (y_pred > 0.1).astype(int)\n",
        "y_test_binary = (y_test > 0.1).astype(int)\n",
        "\n",
        "# Calculate confusion matrix\n",
        "conf_matrix = confusion_matrix(y_test_binary.flatten(), y_pred_binary.flatten())\n",
        "\n",
        "# Extract TP, FP, TN, FN from confusion matrix\n",
        "TP = conf_matrix[1, 1]\n",
        "FP = conf_matrix[0, 1]\n",
        "TN = conf_matrix[0, 0]\n",
        "FN = conf_matrix[1, 0]\n",
        "\n",
        "# Calculate precision, recall, accuracy\n",
        "precision = precision_score(y_test_binary.flatten(), y_pred_binary.flatten())\n",
        "recall = recall_score(y_test_binary.flatten(), y_pred_binary.flatten())\n",
        "accuracy = (TP + TN) / (TP + FP + TN + FN)"
      ]
    },
    {
      "cell_type": "code",
      "execution_count": 126,
      "metadata": {
        "colab": {
          "base_uri": "https://localhost:8080/"
        },
        "id": "5G1IHdJB2nJv",
        "outputId": "4df0cf7c-4fa8-4c32-fabe-2e9fa77dd890"
      },
      "outputs": [
        {
          "name": "stdout",
          "output_type": "stream",
          "text": [
            "Average Relative Error:  0.047920540627676825\n",
            "Test Loss: 0.0112, Test IoU: 0.7883, Test Accuracy: 0.9960\n",
            "Precision: 0.9895, Recall: 0.9986\n",
            "True Positives: 327233, False Positives: 3477, True Negatives: 651883, False Negatives: 447\n"
          ]
        }
      ],
      "source": [
        "# Display the metrics\n",
        "\n",
        "# Print the average relative error\n",
        "print('Average Relative Error: ', sum_errors/len(X_test))\n",
        "\n",
        "# Print the test metrics\n",
        "print(f'Test Loss: {test_loss:.4f}, Test IoU: {test_iou:.4f}, Test Accuracy: {accuracy:.4f}')\n",
        "\n",
        "# Print precision and recall\n",
        "print(f'Precision: {precision:.4f}, Recall: {recall:.4f}')\n",
        "\n",
        "# Print true positives, false positives, true negatives, false negatives\n",
        "print(f'True Positives: {TP}, False Positives: {FP}, True Negatives: {TN}, False Negatives: {FN}')\n"
      ]
    },
    {
      "cell_type": "code",
      "execution_count": 127,
      "metadata": {
        "colab": {
          "base_uri": "https://localhost:8080/",
          "height": 323
        },
        "id": "DjZtVyKAhyDi",
        "outputId": "be086a70-7f0c-4a5c-90fb-936c6679458b"
      },
      "outputs": [
        {
          "name": "stdout",
          "output_type": "stream",
          "text": [
            "1/1 [==============================] - 0s 18ms/step\n"
          ]
        },
        {
          "name": "stderr",
          "output_type": "stream",
          "text": [
            "WARNING:matplotlib.image:Clipping input data to the valid range for imshow with RGB data ([0..1] for floats or [0..255] for integers).\n"
          ]
        },
        {
          "data": {
            "image/png": "[encoded data removed]",
            "text/plain": [
              "<Figure size 2000x2000 with 5 Axes>"
            ]
          },
          "metadata": {},
          "output_type": "display_data"
        }
      ],
      "source": [
        "idx = np.random.randint(0, len(X_test))\n",
        "\n",
        "\n",
        "# Select an image and its corresponding ground truth mask from X_test and y_test\n",
        "image = X_test[idx]\n",
        "mask = y_test[idx]\n",
        "\n",
        "# Perform inference to obtain the predicted mask\n",
        "predicted_mask = model.predict(np.expand_dims(image, axis=0))[0]\n",
        "\n",
        "# Convert the predicted mask to grayscale\n",
        "grayscale_mask = np.dot(predicted_mask[..., :3], [0.2989, 0.5870, 0.1140])\n",
        "\n",
        "# Scale the grayscale mask to the range [0, 255]\n",
        "scaled_mask = grayscale_mask * 255\n",
        "\n",
        "# Extract pixels for the optic disc and cup based on threshold values\n",
        "extracted_pixels_disk = np.where(scaled_mask > 140, scaled_mask, 255)\n",
        "extracted_pixels_cup = np.where(scaled_mask > 70, scaled_mask, 0)\n",
        "\n",
        "# Convert the ground truth mask to grayscale\n",
        "grayscale_original = np.dot(mask[..., :3], [0.2989, 0.5870, 0.1140])\n",
        "\n",
        "# Scale the grayscale original mask to the range [0, 255]\n",
        "original_scaled = grayscale_original * 255\n",
        "original_scaled = cv2.convertScaleAbs(original_scaled)\n",
        "\n",
        "# Plot the original image and the predicted masks\n",
        "plt.figure(figsize=(20, 20))\n",
        "\n",
        "# Original image\n",
        "plt.subplot(1, 5, 1)\n",
        "plt.imshow(image, cmap='gray')\n",
        "plt.title('Original Image')\n",
        "plt.axis('off')\n",
        "\n",
        "# Given Mask\n",
        "plt.subplot(1, 5, 2)\n",
        "plt.imshow(original_scaled, cmap='gray')\n",
        "plt.title('Given Mask')\n",
        "plt.axis('off')\n",
        "\n",
        "# Predicted Mask\n",
        "plt.subplot(1, 5, 3)\n",
        "plt.imshow(scaled_mask, cmap='gray')\n",
        "plt.title('Predicted Mask')\n",
        "plt.axis('off')\n",
        "\n",
        "# Extracted Cup\n",
        "plt.subplot(1, 5, 4)\n",
        "plt.imshow(extracted_pixels_cup, cmap='gray')\n",
        "plt.title('Extracted Cup')\n",
        "plt.axis('off')\n",
        "\n",
        "# Extracted Disk\n",
        "plt.subplot(1, 5, 5)\n",
        "plt.imshow(extracted_pixels_disk, cmap='gray')\n",
        "plt.title('Extracted Disk')\n",
        "plt.axis('off')\n",
        "\n",
        "# Show the plot\n",
        "plt.show()\n"
      ]
    }
  ],
  "metadata": {
    "accelerator": "GPU",
    "colab": {
      "gpuType": "T4",
      "provenance": []
    },
    "kernelspec": {
      "display_name": "Python 3",
      "name": "python3"
    },
    "language_info": {
      "name": "python"
    }
  },
  "nbformat": 4,
  "nbformat_minor": 0
}
